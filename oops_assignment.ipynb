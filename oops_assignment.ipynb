{
 "cells": [
  {
   "cell_type": "code",
   "execution_count": 1,
   "id": "e14bee1c-adec-4c28-9c7a-014b8dbe2538",
   "metadata": {},
   "outputs": [],
   "source": [
    "'''Q1, Create a vehicle class with an init method having instance variables as name_of_vehicle, max_speed\n",
    "and average_of_vehicle.'''\n",
    "#ANS \n",
    "class vehicle :\n",
    "    def __init__(self,name_of_vehicle,max_speed,average_of_vehicle):\n",
    "        self.name_of_vehicle = name_of_vehicle\n",
    "        self.max_speed = max_speed\n",
    "        self.average_of_vehicle = average_of_vehicle"
   ]
  },
  {
   "cell_type": "code",
   "execution_count": 6,
   "id": "46c0f78e-dd51-4c5d-af2e-dfb41fe126d3",
   "metadata": {},
   "outputs": [],
   "source": [
    "'''Q2. Create a child class car from the vehicle class created in Que 1, which will inherit the vehicle\n",
    "class.Create a method named seating_capacity which takes capacity as an argument and returns the name of\n",
    "the vehicle and its seating capacity.'''\n",
    "#ANS\n",
    "class car(vehicle) :\n",
    "    def seating_capacity(self,capacity):\n",
    "        self.capacity = capacity\n",
    "        return self.name_of_vehicle , self.capacity"
   ]
  },
  {
   "cell_type": "code",
   "execution_count": 10,
   "id": "4d57dd3b-8b02-49e4-847b-d86a5fe55742",
   "metadata": {},
   "outputs": [],
   "source": [
    "'''Q3. What is multiple inheritance? Write a python code to demonstrate multiple inheritance.'''\n",
    "#ANS : When a class is derived from more than one base class it is called multiple Inheritance.\n",
    "class class1 :\n",
    "    def class1_meth(self) :\n",
    "        return \" This is a method from class 1\"\n",
    "    \n",
    "class class2 :\n",
    "    def class2_meth(self) :\n",
    "        return \" This is a method from class 2\" \n",
    "    \n",
    "class class3(class1 , class2) :   #Multiple Inheritance\n",
    "    pass"
   ]
  },
  {
   "cell_type": "code",
   "execution_count": 25,
   "id": "afc39503-0c64-4a4e-af09-720547cba5f1",
   "metadata": {},
   "outputs": [],
   "source": [
    "'''Q4. What are getter and setter in python? Create a class and create a getter and a setter method in this\n",
    "class.'''\n",
    "#ANS\n",
    "'''Getters: These are the methods used in Object-Oriented Programming (OOPS) which helps to access the\n",
    "private attributes from a class. \n",
    "   Setters: These are the methods used in OOPS feature which helps to set the\n",
    "value to private attributes in a class.'''\n",
    "class test:\n",
    "    def __init__(self,name,age):\n",
    "        self.__name = name\n",
    "        self.__age = age\n",
    "        \n",
    "    def get_name(self):\n",
    "        return self.__name\n",
    "    \n",
    "    def set_age(self,age):\n",
    "        self.__age = age"
   ]
  },
  {
   "cell_type": "code",
   "execution_count": 7,
   "id": "f4d3abca-b4a7-454d-9cc1-e1b2a3c48ec1",
   "metadata": {},
   "outputs": [],
   "source": [
    "'''Q5.What is method overriding in python? Write a python code to demonstrate method overriding.'''\n",
    "#AMS :\n",
    "'''Method overriding in Python refers to the ability of a subclass to provide a specific implementation of\n",
    "a method that is already defined in its superclass'''\n",
    "class dog :\n",
    "    def speak(self):\n",
    "        print(\"Cat Meows\")\n",
    "        \n",
    "class cat(dog):\n",
    "    def speak(self):\n",
    "        print(\"Dog Barks\")"
   ]
  },
  {
   "cell_type": "code",
   "execution_count": 8,
   "id": "f59db72d-adbc-483f-a579-7afd4e3b5c5d",
   "metadata": {},
   "outputs": [],
   "source": [
    "dog = dog()"
   ]
  },
  {
   "cell_type": "code",
   "execution_count": 9,
   "id": "ee0d373b-8a5b-4677-85a6-cc27d73f4555",
   "metadata": {},
   "outputs": [],
   "source": [
    "cat = cat()"
   ]
  },
  {
   "cell_type": "code",
   "execution_count": 13,
   "id": "9f8ee1b0-de16-47b8-b0d0-f78b984685e9",
   "metadata": {},
   "outputs": [
    {
     "name": "stdout",
     "output_type": "stream",
     "text": [
      " Cat Meows\n",
      "Dog Barks\n"
     ]
    }
   ],
   "source": [
    "dog = dog.speak()\n",
    "cat = cat.speak()"
   ]
  }
 ],
 "metadata": {
  "kernelspec": {
   "display_name": "Python 3 (ipykernel)",
   "language": "python",
   "name": "python3"
  },
  "language_info": {
   "codemirror_mode": {
    "name": "ipython",
    "version": 3
   },
   "file_extension": ".py",
   "mimetype": "text/x-python",
   "name": "python",
   "nbconvert_exporter": "python",
   "pygments_lexer": "ipython3",
   "version": "3.10.8"
  }
 },
 "nbformat": 4,
 "nbformat_minor": 5
}
